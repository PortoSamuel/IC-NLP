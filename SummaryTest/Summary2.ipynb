{
  "nbformat": 4,
  "nbformat_minor": 0,
  "metadata": {
    "colab": {
      "name": "Untitled1.ipynb",
      "provenance": [],
      "collapsed_sections": []
    },
    "kernelspec": {
      "name": "python3",
      "display_name": "Python 3"
    }
  },
  "cells": [
    {
      "cell_type": "code",
      "metadata": {
        "id": "YAcRE6MDvEGP",
        "colab_type": "code",
        "colab": {}
      },
      "source": [
        "pip install pytorch_pretrained_bert "
      ],
      "execution_count": 0,
      "outputs": []
    },
    {
      "cell_type": "code",
      "metadata": {
        "id": "9VoU9T4CtCEv",
        "colab_type": "code",
        "colab": {
          "base_uri": "https://localhost:8080/",
          "height": 68
        },
        "outputId": "8f305002-9fdc-4e7d-8fcf-20dba6c727ba"
      },
      "source": [
        "import torch\n",
        "from pytorch_pretrained_bert import BertTokenizer, BertModel\n",
        "import numpy as np\n",
        "from tqdm import tqdm\n",
        "from sklearn.decomposition import PCA\n",
        "from sklearn.cluster import KMeans\n",
        "import matplotlib\n",
        "import matplotlib.pyplot as plt\n",
        "import nltk\n",
        "from nltk import tokenize\n",
        "nltk.download('punkt')"
      ],
      "execution_count": 29,
      "outputs": [
        {
          "output_type": "stream",
          "text": [
            "[nltk_data] Downloading package punkt to /root/nltk_data...\n",
            "[nltk_data]   Package punkt is already up-to-date!\n"
          ],
          "name": "stdout"
        },
        {
          "output_type": "execute_result",
          "data": {
            "text/plain": [
              "True"
            ]
          },
          "metadata": {
            "tags": []
          },
          "execution_count": 29
        }
      ]
    },
    {
      "cell_type": "markdown",
      "metadata": {
        "id": "zsvrCFqqvVzL",
        "colab_type": "text"
      },
      "source": [
        "##Funcoes"
      ]
    },
    {
      "cell_type": "code",
      "metadata": {
        "id": "YGxDhqViuMXe",
        "colab_type": "code",
        "colab": {}
      },
      "source": [
        "def content_sentences(body):\n",
        "        sentences = tokenize.sent_tokenize(body)\n",
        "        return [c for c in sentences if len(c) > 75 and not c.lower().startswith('but') and\n",
        "                not c.lower().startswith('and')\n",
        "                and not c.lower().__contains__('quiz') and\n",
        "                not c.lower().startswith('or')]\n",
        "\n",
        "def tokenize_input(text):\n",
        "        tokenized_text = tokenizer.tokenize(text)\n",
        "        indexed_tokens = tokenizer.convert_tokens_to_ids(tokenized_text)\n",
        "        return torch.tensor([indexed_tokens])\n",
        "\n",
        "def extract_embeddings(text):\n",
        "        tokens_tensor = tokenize_input(text)\n",
        "        hidden_states, pooled = model(tokens_tensor)\n",
        "        pooled = hidden_states[-2].mean(dim=1)\n",
        "        return pooled"
      ],
      "execution_count": 0,
      "outputs": []
    },
    {
      "cell_type": "markdown",
      "metadata": {
        "id": "dsieFVjN6B4h",
        "colab_type": "text"
      },
      "source": [
        "##Classes"
      ]
    },
    {
      "cell_type": "code",
      "metadata": {
        "id": "X9spMEXb6Juv",
        "colab_type": "code",
        "colab": {}
      },
      "source": [
        "class ClusterFeatures(object):\n",
        "    def __init__(self, features, algorithm='kmeans', pca_k=2):\n",
        "        if pca_k:\n",
        "            self.features = PCA(n_components=pca_k).fit_transform(features)\n",
        "        else:\n",
        "            self.features = features\n",
        "        self.algorithm = algorithm\n",
        "        self.pca_k = pca_k\n",
        "\n",
        "    def __get_model(self, k):\n",
        "        if self.algorithm == 'gmm':\n",
        "            return GaussianMixture(n_components=k)\n",
        "        if self.algorithm == 'affinity':\n",
        "            return AffinityPropagation()\n",
        "        return KMeans(n_clusters=k)\n",
        "\n",
        "    def __get_centroids(self, model):\n",
        "        if self.algorithm == 'gmm':\n",
        "            return model.means_\n",
        "        return model.cluster_centers_\n",
        "\n",
        "    def __find_closest_args(self, centroids):\n",
        "        centroid_min = 1e7\n",
        "        cur_arg = -1\n",
        "        args = {}\n",
        "        used_idx = []\n",
        "        for j, centroid in enumerate(centroids):\n",
        "            for i, feature in enumerate(self.features):\n",
        "                value = np.sum(np.abs(feature - centroid))\n",
        "                if value < centroid_min and i not in used_idx:\n",
        "                    cur_arg = i\n",
        "                    centroid_min= value\n",
        "            used_idx.append(cur_arg)\n",
        "            args[j] = cur_arg\n",
        "            centroid_min = 1e7\n",
        "            cur_arg = -1\n",
        "        return args\n",
        "\n",
        "    def cluster(self, ratio=0.1):\n",
        "        k = 1 if ratio * len(self.features) < 1 else int(len(self.features) * ratio)\n",
        "        model = self.__get_model(k).fit(self.features)\n",
        "        centroids = self.__get_centroids(model)\n",
        "        cluster_args = self.__find_closest_args(centroids)\n",
        "        sorted_values = sorted(cluster_args.values())\n",
        "        return sorted_values\n",
        "\n",
        "    def create_plots(self, k=4, plot_location='./cool_model.png', title = ''):\n",
        "        if self.pca_k != 2:\n",
        "            raise RuntimeError(\"Must be dimension of 2\")\n",
        "        model = self.__get_model(k)\n",
        "        model.fit(self.features)\n",
        "        y = model.predict(self.features)\n",
        "        plt.title(title)\n",
        "        plt.scatter(self.features[:, 0], self.features[:, 1], c=y, s=50, cmap='viridis')\n",
        "        centers = model.cluster_centers_\n",
        "        plt.scatter(centers[:, 0], centers[:, 1], c='black', s=200, alpha=0.5)\n",
        "        plt.savefig(plot_location)"
      ],
      "execution_count": 0,
      "outputs": []
    },
    {
      "cell_type": "markdown",
      "metadata": {
        "id": "4o38dkkT7RJD",
        "colab_type": "text"
      },
      "source": [
        "##Aplicacao"
      ]
    },
    {
      "cell_type": "code",
      "metadata": {
        "id": "7CQCH4xmtE0i",
        "colab_type": "code",
        "colab": {}
      },
      "source": [
        "body = '''\n",
        "Haiti is no stranger to crisis. Amid civil unrest, staggering unemployment, lack of quality health care and severe poverty, the country now faces a global pandemic that officials say could worsen its hunger crisis.\n",
        "\"The situation has been described as a perfect storm approaching,\" Dr. Carissa F. Etienne, Director of the Pan American Health Organization (PAHO) said in a briefing Tuesday, warning the spread of the coronavirus could result in famine.\n",
        "Haiti's World Food Programme Director Pierre Honnorat told CNN that he expects hunger to \"get much worse.\"\n",
        "\"Close to four million Haitians were already facing hunger before the Covid-19 crisis. With the continued depreciation of the gourde [Haitian currency], the steady rise in food prices, and new restrictions on movements and disruptions of economic activities, the most vulnerable Haitians will be pushed deeper into poverty,\" Honnorat said.\n",
        "The World Food Programme 2020 report on global food crises attributed Haiti's food insecurity in part to political instability last year, which \"led to a slowdown or halt of public services and suspension of bilateral investment and support.\" The report also cites factors such as high inflation, unemployment and poor economic conditions.\n",
        "The country's reliance on imported foods also leaves it particularly vulnerable to the pandemic's global economic toll, according to one economic expert. \"With remittances, exports, and tourism all expected to crash, Haiti will be less and less able to import the basic goods the country has come to rely upon. Inflation, which is already higher than it has been in years, is likely to increase further -- putting basic goods out of reach of more and more families,\" said Jake Johnston, senior research associate at the Washington-based Center for Economic and Policy Research.\n",
        "Miguel Wilner, a 40-year-old Haitian who lost his home after the 2010 earthquake devastated the nation, lives in the Caradeux settlement camp in the north of Port-au-Prince. With little access to electricity, let alone media resources, Wilner and many other Haitians remain in the dark about information surrounding Covid-19.\n",
        "Coronavirus quickly spread around the world starting late last year, new genetic analysis shows\n",
        "Coronavirus quickly spread around the world starting late last year, new genetic analysis shows\n",
        "Wilner fears the outbreak could prove dire to his and other settlement camps.\n",
        "\"We are defenseless against this new virus,\" Wilner tells CNN. \"People are already dying of hunger, here at the camp we have no help and we don't know what will happen. At this point anything is possible, we have very little information on what's going on. On top of the hunger and lack of sanitation, we have no electricity to stay connected with the news.\"\n",
        "According to the International Organization for Migration, more than 34,000 people live in 22 settlement camps across Haiti. \"Access remains difficult in these areas, no humanitarian assistance is being provided at the moment,\" the IOM said.\n",
        "Haiti has so far reported 100 confirmed cases of the novel coronavirus and 11 deaths, according to PAHO Director Etienne, who says that the probability of further spread is \"extremely high.\"\n",
        "Etienne adds that it is \"extremely difficult to institute proper social distancing in Haiti,\" citing lack of awareness of the threat among communities and many people living in crowded households \"where quarantine and isolation are challenging.\"\n",
        "She also indicated the effect of the Covid-19 outbreak on Haiti's healthcare system could be grim.\n",
        "\"The health system in Haiti has limited capacity. There are few beds for treating Covid-19, insufficient numbers of healthcare professionals and insufficient personal protective equipment. The security of the Covid-19 designated hospitals and the safety of community health workers is also of grave concern. There is real danger of a large-scale outbreak followed by a humanitarian crisis in Haiti,\" Etienne said.\n",
        "Coronavirus pandemic could contribute to surge of other deadly diseases, experts warn\n",
        "Coronavirus pandemic could contribute to surge of other deadly diseases, experts warn\n",
        "In March, Haitian President Jovenel Moïse announced a nationwide lockdown after the country confirmed its first two cases. But while lockdown measures remain in place, the government has already reopened textile factories.\n",
        "In an address to the nation on April 27, Moïse, who has faced calls to resign for more than a year, told Haitians that more difficult days lie ahead.\n",
        "\"As a leader, we should be able to plan for after coronavirus. I have to ask myself, what is waiting for Haiti after the pandemic?\" He added, \"It is clear [Haiti] will have a lot of challenges, including famine.\"\n",
        "But Johnston, the economic researcher, says the pandemic could also give Moïse's government a chance to step up.\n",
        "\"With global supply chains disrupted and access to imports reduced, the Haitian government and international donors may be pushed into supporting national agricultural production in an unprecedented fashion,\" he said.\n",
        "\"Ironically, this is exactly what peasant organizations, rural families and aid watch dogs have been requesting for years,\" Johnston said.\n",
        "'''"
      ],
      "execution_count": 0,
      "outputs": []
    },
    {
      "cell_type": "code",
      "metadata": {
        "id": "NMNCXf3StE5R",
        "colab_type": "code",
        "colab": {}
      },
      "source": [
        "initial_sentences = content_sentences(body)"
      ],
      "execution_count": 0,
      "outputs": []
    },
    {
      "cell_type": "code",
      "metadata": {
        "id": "zlvvGyGqtFAX",
        "colab_type": "code",
        "colab": {
          "base_uri": "https://localhost:8080/",
          "height": 51
        },
        "outputId": "fbd3145b-b0ff-4f3d-edc3-6595af2c8cae"
      },
      "source": [
        "model = BertModel.from_pretrained('bert-large-uncased')\n",
        "\n",
        "tokenizer = BertTokenizer.from_pretrained('bert-large-uncased')"
      ],
      "execution_count": 11,
      "outputs": [
        {
          "output_type": "stream",
          "text": [
            "100%|██████████| 1248501532/1248501532 [00:29<00:00, 42601965.24B/s]\n",
            "100%|██████████| 231508/231508 [00:00<00:00, 876201.99B/s]\n"
          ],
          "name": "stderr"
        }
      ]
    },
    {
      "cell_type": "code",
      "metadata": {
        "id": "L7B8Rq3stFC7",
        "colab_type": "code",
        "colab": {
          "base_uri": "https://localhost:8080/",
          "height": 34
        },
        "outputId": "c61f35c7-6a44-4b29-e852-cef494e85a68"
      },
      "source": [
        "vector_size = 1024\n",
        "\n",
        "train_vec = np.zeros((len(initial_sentences), vector_size))\n",
        "\n",
        "for i, t in tqdm(enumerate(initial_sentences)):\n",
        "            train_vec[i] = extract_embeddings(t).data.numpy()"
      ],
      "execution_count": 18,
      "outputs": [
        {
          "output_type": "stream",
          "text": [
            "29it [00:17,  1.62it/s]\n"
          ],
          "name": "stderr"
        }
      ]
    },
    {
      "cell_type": "code",
      "metadata": {
        "id": "9aYIDKALtFHI",
        "colab_type": "code",
        "colab": {
          "base_uri": "https://localhost:8080/",
          "height": 139
        },
        "outputId": "ec9ecdc1-ea3e-4e46-9adb-8604fd2b5767"
      },
      "source": [
        "ratio = 0.2\n",
        "\n",
        "hidden_args = ClusterFeatures(train_vec).cluster(ratio)\n",
        "\n",
        "if hidden_args[0] != 0:\n",
        "            hidden_args.insert(0,0)\n",
        "\n",
        "resultado = [initial_sentences[j] for j in hidden_args]\n",
        "\n",
        "# resultado = ' '.join(resultado).strip()\n",
        "\n",
        "resultado"
      ],
      "execution_count": 33,
      "outputs": [
        {
          "output_type": "execute_result",
          "data": {
            "text/plain": [
              "['Amid civil unrest, staggering unemployment, lack of quality health care and severe poverty, the country now faces a global pandemic that officials say could worsen its hunger crisis.',\n",
              " '\"The situation has been described as a perfect storm approaching,\" Dr. Carissa F. Etienne, Director of the Pan American Health Organization (PAHO) said in a briefing Tuesday, warning the spread of the coronavirus could result in famine.',\n",
              " 'The report also cites factors such as high inflation, unemployment and poor economic conditions.',\n",
              " 'With little access to electricity, let alone media resources, Wilner and many other Haitians remain in the dark about information surrounding Covid-19.',\n",
              " 'He added, \"It is clear [Haiti] will have a lot of challenges, including famine.\"',\n",
              " '\"With global supply chains disrupted and access to imports reduced, the Haitian government and international donors may be pushed into supporting national agricultural production in an unprecedented fashion,\" he said.']"
            ]
          },
          "metadata": {
            "tags": []
          },
          "execution_count": 33
        }
      ]
    },
    {
      "cell_type": "code",
      "metadata": {
        "id": "MaRCsJ43tFPe",
        "colab_type": "code",
        "colab": {
          "base_uri": "https://localhost:8080/",
          "height": 268
        },
        "outputId": "d26ecb1c-0c1c-4159-a676-84b545cb4dd7"
      },
      "source": [
        "ClusterFeatures(train_vec).create_plots()"
      ],
      "execution_count": 34,
      "outputs": [
        {
          "output_type": "display_data",
          "data": {
            "image/png": "[encoded data removed]",
            "text/plain": [
              "<Figure size 432x288 with 1 Axes>"
            ]
          },
          "metadata": {
            "tags": [],
            "needs_background": "light"
          }
        }
      ]
    },
    {
      "cell_type": "code",
      "metadata": {
        "id": "SIiOVsUhtFK3",
        "colab_type": "code",
        "colab": {}
      },
      "source": [
        ""
      ],
      "execution_count": 0,
      "outputs": []
    },
    {
      "cell_type": "code",
      "metadata": {
        "id": "SWLtQVjJtE3I",
        "colab_type": "code",
        "colab": {}
      },
      "source": [
        ""
      ],
      "execution_count": 0,
      "outputs": []
    }
  ]
}